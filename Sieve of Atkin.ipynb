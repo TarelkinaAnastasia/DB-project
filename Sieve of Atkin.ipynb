{
  "nbformat": 4,
  "nbformat_minor": 0,
  "metadata": {
    "colab": {
      "provenance": [],
      "authorship_tag": "ABX9TyOvpx5P6YdwKonRL927kN5E",
      "include_colab_link": true
    },
    "kernelspec": {
      "name": "python3",
      "display_name": "Python 3"
    },
    "language_info": {
      "name": "python"
    }
  },
  "cells": [
    {
      "cell_type": "markdown",
      "metadata": {
        "id": "view-in-github",
        "colab_type": "text"
      },
      "source": [
        "<a href=\"https://colab.research.google.com/github/TarelkinaAnastasia/DB-project/blob/main/Sieve%20of%20Atkin.ipynb\" target=\"_parent\"><img src=\"https://colab.research.google.com/assets/colab-badge.svg\" alt=\"Open In Colab\"/></a>"
      ]
    },
    {
      "cell_type": "code",
      "source": [
        "from math import sqrt, ceil, pow\n",
        "\n",
        "class SieveOfAtkin:\n",
        "\tdef __init__(self, limit):\n",
        "\t\tself.limit = limit\t\t\n",
        "\t\tself.primes = []\t\n",
        "\t\tself.sieve = [False]*(self.limit+1)\n",
        "\n",
        "\t\n",
        "\tdef flip(self, prime):\n",
        "\t\ttry:\n",
        "\t\t\tself.sieve[prime] = True if self.sieve[prime] == False else False\n",
        "\t\texcept KeyError:\n",
        "\t\t\tpass\n",
        "\n",
        "\n",
        "\tdef invalidate(self, prime):\n",
        "\t\ttry:\n",
        "\t\t\tif self.sieve[prime] == True: self.sieve[prime] = False\n",
        "\t\texcept KeyError:\n",
        "\t\t\tpass\t\t\t\n",
        "\n",
        "\n",
        "\tdef isPrime(self, prime):\n",
        "\t\ttry:\n",
        "\t\t\treturn self.sieve[prime]\n",
        "\t\texcept KeyError:\n",
        "\t\t\treturn False\n",
        "\n",
        "\n",
        "\tdef getPrimes(self):\t\t\t\n",
        "\t\ttestingLimit = int(ceil(sqrt(self.limit)))\n",
        "\n",
        "\t\tfor i in range(testingLimit):\n",
        "\t\t\tfor j in range(testingLimit):\n",
        "\t\t\t\t# n = 4*i^2 + j^2\n",
        "\t\t\t\tn = 4*int(pow(i, 2)) + int(pow(j,2))\n",
        "\t\t\t\tif n <= self.limit and (n % 12 == 1 or n % 12 == 5):\t\t\t\t\n",
        "\t\t\t\t\tself.flip(n)\n",
        "\n",
        "\t\t\t\t# n = 3*i^2 + j^2\n",
        "\t\t\t\tn = 3*int(pow(i, 2)) + int(pow(j,2))\n",
        "\t\t\t\tif n <= self.limit and n % 12 == 7:\t\t\t\t\n",
        "\t\t\t\t\tself.flip(n)\t\t\t\t\n",
        "\n",
        "\t\t\t\t# n = 3*i^2 - j^2\n",
        "\t\t\t\tn = 3*int(pow(i, 2)) - int(pow(j,2))\n",
        "\t\t\t\tif n <= self.limit and i > j and n % 12 == 11:\t\t\t\t\t\n",
        "\t\t\t\t\tself.flip(n)\t\t\t\t\n",
        "\n",
        "\n",
        "\t\tfor i in range(5, testingLimit):\t\t\t\n",
        "\t\t\tif self.isPrime(i):\n",
        "\t\t\t\tk = int(pow(i, 2))\n",
        "\t\t\t\tfor j in range(k, self.limit, k):\n",
        "\t\t\t\t\tself.invalidate(j)\n",
        "\t\t\t\t\t\t\t\n",
        "\t\tself.primes = [2, 3] + [x for x in range(len(self.sieve)) if self.isPrime(x) and x>=5]\n",
        "\t\treturn self.primes"
      ],
      "metadata": {
        "id": "9_PdM6ZZ0yuw"
      },
      "execution_count": 1,
      "outputs": []
    },
    {
      "cell_type": "code",
      "source": [
        "import unittest\n",
        "import random\n",
        "#from sieve_of_atkin import SieveOfAtkin\n",
        "\n",
        "class SieveOfAtkinTests(unittest.TestCase):\n",
        "\t\"\"\" Testing Sieve of Atkin implementation  \"\"\"\n",
        "\tdef setUp(self):\n",
        "\t\tself.primes = [2, 3, 5, 7, 11, 13, 17, 19,\n",
        "\t\t\t\t  23, 29, 31, 37, 41, 43, 47, \n",
        "\t\t\t\t  53, 59, 61, 67, 71, 73, 79, \n",
        "\t\t\t\t  83, 89, 97, 101, 103, 107, \n",
        "\t\t\t\t  109, 113, 127, 131, 137, 139, \n",
        "\t\t\t\t  149, 151, 157, 163, 167, 173,\n",
        "\t\t\t\t  179, 181, 191, 193, 197, 199,    \n",
        "\t\t\t\t  211, 223, 227, 229, 233, 239,    \n",
        "\t\t\t\t  241, 251, 257, 263, 269, 271,    \n",
        "\t\t\t\t  277, 281, 283, 293, 307, 311,\n",
        "\t\t\t\t  313, 317, 331, 337, 347, 349,\n",
        "\t\t\t\t  353, 359, 367, 373, 379, 383,\n",
        "\t\t\t\t  389, 397, 401, 409, 419, 421,\n",
        "\t\t\t\t  431, 433, 439, 443, 449, 457,\n",
        "\t\t\t\t  461, 463, 467, 479, 487, 491,\n",
        "\t\t\t\t  499, 503, 509, 521, 523, 541,\n",
        "\t\t\t\t  547, 557, 563, 569, 571, 577,\n",
        "\t\t\t\t  587, 593, 599, 601, 607, 613,\n",
        "\t\t\t\t  617, 619, 631, 641, 643, 647,\n",
        "\t\t\t\t  653, 659, 661, 673, 677, 683,\n",
        "\t\t\t\t  691, 701, 709, 719, 727, 733,\n",
        "\t\t\t\t  739, 743, 751, 757, 761, 769,\n",
        "\t\t\t\t  773, 787, 797, 809, 811, 821,\n",
        "\t\t\t\t  823, 827, 829, 839, 853, 857,\n",
        "\t\t\t\t  859, 863, 877, 881, 883, 887,\n",
        "\t\t\t\t  907, 911, 919, 929, 937, 941,\n",
        "\t\t\t\t  947, 953, 967, 971, 977, 983,\n",
        "\t\t\t\t  991, 997, 1009, 1013, 1019, 1021,\n",
        "\t\t\t\t  1031, 1033, 1039, 1049, 1051, 1061,\n",
        "\t\t\t\t  1063, 1069, 1087, 1091, 1093, 1097,\n",
        "\t\t\t\t  1103, 1109, 1117, 1123, 1129, 1151,\n",
        "   \t\t\t\t  1153, 1163, 1171, 1181, 1187, 1193,\n",
        "   \t\t\t\t  1201, 1213, 1217, 1223, 1229, 1231,\n",
        "   \t\t\t\t  1237, 1249, 1259, 1277, 1279, 1283,\n",
        "   \t\t\t\t  1289, 1291, 1297, 1301, 1303, 1307,\n",
        "   \t\t\t\t  1319, 1321, 1327, 1361, 1367, 1373,\n",
        "   \t\t\t\t  1381, 1399, 1409, 1423, 1427, 1429,\n",
        "   \t\t\t\t  1433, 1439, 1447, 1451, 1453, 1459,\n",
        "   \t\t\t\t  1471, 1481, 1483, 1487, 1489, 1493,\n",
        "   \t\t\t\t  1499, 1511, 1523, 1531, 1543, 1549,\n",
        "   \t\t\t\t  1553, 1559, 1567, 1571, 1579, 1583,\n",
        "   \t\t\t\t  1597, 1601, 1607, 1609, 1613, 1619,\n",
        "   \t\t\t\t  1621, 1627, 1637, 1657, 1663, 1667,\n",
        "   \t\t\t\t  1669, 1693, 1697, 1699, 1709, 1721,\n",
        "   \t\t\t\t  1723, 1733, 1741, 1747, 1753, 1759,\n",
        "   \t\t\t\t  1777, 1783, 1787, 1789, 1801, 1811,\n",
        "   \t\t\t\t  1823, 1831, 1847, 1861, 1867, 1871,\n",
        "   \t\t\t\t  1873, 1877, 1879, 1889, 1901, 1907,\n",
        "   \t\t\t\t  1913, 1931, 1933, 1949, 1951, 1973,\n",
        "   \t\t\t\t  1979, 1987, 1993, 1997, 1999]\n",
        "\n",
        "\t\n",
        "\tdef testFlip(self):\n",
        "\t\tsoa = SieveOfAtkin(10)\n",
        "\t\t\n",
        "\t\tsoa.flip(2)\t\t\n",
        "\t\tself.assertTrue(soa.sieve[2])\t\t\n",
        "\t\t\n",
        "\t\tsoa.flip(2)\t\t\n",
        "\t\tself.assertFalse(soa.sieve[2])\t\t\n",
        "\n",
        "\n",
        "\tdef testInvalidate(self):\n",
        "\t\tsoa = SieveOfAtkin(10)\n",
        "\t\t\n",
        "\t\tsoa.invalidate(2)\n",
        "\t\tself.assertFalse(soa.sieve[2])\t\t\n",
        "\t\t\n",
        "\t\tsoa.flip(2)\t\t\n",
        "\t\tself.assertTrue(soa.sieve[2])\t\t\n",
        "\n",
        "\n",
        "\tdef testIsPrime(self):\n",
        "\t\tsoa = SieveOfAtkin(100)\t\t\n",
        "\t\tself.assertFalse(soa.isPrime(2))\n",
        "\t\tsoa.flip(2)\t\t\n",
        "\t\tself.assertTrue(soa.isPrime(2))\n",
        "\n",
        "\n",
        "\n",
        "\tdef testPrimesLowerThan10(self):\n",
        "\t\tsoa = SieveOfAtkin(10)\n",
        "\t\tprimesLowerThan10 = [x for x in self.primes if  x<10]\t\t\t\n",
        "\t\tprimes = soa.getPrimes()\n",
        "\t\tprimes.sort()\n",
        "\t\tprimesLowerThan10.sort()\n",
        "\t\tself.assertEqual(primes, primesLowerThan10)\n",
        "\n",
        "\n",
        "\tdef testPrimesLowerThan100(self):\n",
        "\t\tsoa = SieveOfAtkin(100)\n",
        "\t\tprimesLowerThan100 = [x for x in self.primes if  x<100]\n",
        "\t\tprimes = soa.getPrimes()\n",
        "\t\tprimes.sort()\n",
        "\t\tprimesLowerThan100.sort()\n",
        "\t\tself.assertEqual(primes, primesLowerThan100)\n",
        "\n",
        "\n",
        "\tdef testPrimesLowerThan1000(self):\n",
        "\t\tsoa = SieveOfAtkin(1000)\n",
        "\t\tprimesLowerThan1000 = [x for x in self.primes if  x<1000]\n",
        "\t\tprimes = soa.getPrimes()\n",
        "\t\tprimes.sort()\n",
        "\t\tprimesLowerThan1000.sort()\n",
        "\t\tself.assertEqual(primes, primesLowerThan1000)\n",
        "\n",
        "\n",
        "\tdef testPrimesLowerThan2000(self):\n",
        "\t\tsoa = SieveOfAtkin(2000)\n",
        "\t\tprimesLowerThan2000 = [x for x in self.primes if  x<2000]\n",
        "\t\tprimes = soa.getPrimes()\n",
        "\t\tprimes.sort()\n",
        "\t\tprimesLowerThan2000.sort()\n",
        "\t\tself.assertEqual(primes, primesLowerThan2000)\n",
        "\n",
        "\n",
        "if __name__ == '__main__':\n",
        "    unittest.main(argv=['first-arg-is-ignored'], exit=False)"
      ],
      "metadata": {
        "colab": {
          "base_uri": "https://localhost:8080/"
        },
        "id": "Asb8nOR24rix",
        "outputId": "8b23430f-a276-4643-ed3b-4d8ab04e9ac9"
      },
      "execution_count": 2,
      "outputs": [
        {
          "output_type": "stream",
          "name": "stderr",
          "text": [
            ".......\n",
            "----------------------------------------------------------------------\n",
            "Ran 7 tests in 0.055s\n",
            "\n",
            "OK\n"
          ]
        }
      ]
    },
    {
      "cell_type": "code",
      "source": [
        "import time\n",
        "import matplotlib.pyplot as plt\n",
        "\n",
        "times = []\n",
        "for i in [10**n for n in range(3,9)]:\n",
        "    start_time = time.time()\n",
        "    soa = SieveOfAtkin(i)\n",
        "    soa.getPrimes()\n",
        "    times.append(time.time() - start_time)\n"
      ],
      "metadata": {
        "id": "qky6EqY74zs3"
      },
      "execution_count": null,
      "outputs": []
    },
    {
      "cell_type": "code",
      "source": [
        "for i, time in zip([10**n for n in range(3,9)], times):\n",
        "    print(f\"{i}: {time} seconds\")"
      ],
      "metadata": {
        "colab": {
          "base_uri": "https://localhost:8080/"
        },
        "id": "wb2-zixH-s1N",
        "outputId": "fd08f62e-c139-4232-80f5-40d13ffc20a8"
      },
      "execution_count": 25,
      "outputs": [
        {
          "output_type": "stream",
          "name": "stdout",
          "text": [
            "1000: 0.0032308101654052734 seconds\n",
            "10000: 0.027721881866455078 seconds\n",
            "100000: 0.18581175804138184 seconds\n",
            "1000000: 2.013389825820923 seconds\n",
            "10000000: 20.060888290405273 seconds\n",
            "100000000: 205.4535677433014 seconds\n"
          ]
        }
      ]
    },
    {
      "cell_type": "code",
      "source": [
        "plt.plot([10**n for n in range(3,9)], times)\n",
        "plt.xscale('log')\n",
        "plt.yscale('log')\n",
        "plt.grid()\n",
        "plt.xlabel(\"Предел (в логарифмической шкале)\")\n",
        "plt.ylabel(\"Время, с. (в логарифмической шкале)\")\n",
        "plt.show()"
      ],
      "metadata": {
        "colab": {
          "base_uri": "https://localhost:8080/",
          "height": 283
        },
        "id": "b_ozmapY6E8b",
        "outputId": "256cf20e-9883-4518-c01f-d08989d836eb"
      },
      "execution_count": 23,
      "outputs": [
        {
          "output_type": "display_data",
          "data": {
            "text/plain": [
              "<Figure size 432x288 with 1 Axes>"
            ],
            "image/png": "[encoded data removed]"
          },
          "metadata": {
            "needs_background": "light"
          }
        }
      ]
    },
    {
      "cell_type": "code",
      "source": [
        "plt.plot([10**n for n in range(3,9)], times)\n",
        "# plt.xscale('log')\n",
        "# plt.yscale('log')\n",
        "plt.grid()\n",
        "plt.xlabel(\"Предел\")\n",
        "plt.ylabel(\"Время, с.\")\n",
        "plt.show()"
      ],
      "metadata": {
        "colab": {
          "base_uri": "https://localhost:8080/",
          "height": 279
        },
        "id": "cARIfr2y8rTJ",
        "outputId": "cd3faf99-82ff-4dd5-8161-529d1473b7bb"
      },
      "execution_count": 24,
      "outputs": [
        {
          "output_type": "display_data",
          "data": {
            "text/plain": [
              "<Figure size 432x288 with 1 Axes>"
            ],
            "image/png": "[encoded data removed]"
          },
          "metadata": {
            "needs_background": "light"
          }
        }
      ]
    },
    {
      "cell_type": "code",
      "source": [],
      "metadata": {
        "id": "s1PAV-kv-Y24"
      },
      "execution_count": null,
      "outputs": []
    }
  ]
}